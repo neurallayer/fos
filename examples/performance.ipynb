{
 "cells": [
  {
   "cell_type": "markdown",
   "metadata": {},
   "source": [
    "This simple script is used to validate if new versions of FOS don't lead to performance degradations. It uses the training of a simple convolutional network as a reference. On a NVidia GTX 1080TI should take about 17 seconds."
   ]
  },
  {
   "cell_type": "code",
   "execution_count": 1,
   "metadata": {},
   "outputs": [],
   "source": [
    "# Uncomment the following line if running on Google Colab\n",
    "# !pip install fos\n",
    "\n",
    "import torch\n",
    "import torch.nn as nn\n",
    "import numpy as np\n",
    "import torch.nn.functional as F\n",
    "\n",
    "# Import the Fos classes we are going to use in this notebook\n",
    "from fos import Workout"
   ]
  },
  {
   "cell_type": "code",
   "execution_count": 2,
   "metadata": {},
   "outputs": [],
   "source": [
    "model = nn.Sequential(\n",
    "    nn.Conv2d(3, 16, kernel_size=3),\n",
    "    nn.ReLU(),\n",
    "    nn.Conv2d(16, 16, kernel_size=3),\n",
    "    nn.ReLU(),\n",
    "    nn.BatchNorm2d(num_features=16),\n",
    "    nn.MaxPool2d(4),\n",
    "\n",
    "    nn.Conv2d(16, 64, kernel_size=3),\n",
    "    nn.ReLU(),\n",
    "    nn.Conv2d(64, 64, kernel_size=3),\n",
    "    nn.ReLU(),\n",
    "    nn.BatchNorm2d(num_features=64),\n",
    "    nn.MaxPool2d(4),\n",
    "\n",
    "    nn.Conv2d(64, 256, kernel_size=3),\n",
    "    nn.ReLU(),\n",
    "    nn.Conv2d(256, 256, kernel_size=3),\n",
    "    nn.ReLU(),\n",
    "    nn.BatchNorm2d(num_features=256),\n",
    "    nn.MaxPool2d(4),\n",
    "\n",
    "    nn.Flatten(),\n",
    "    nn.Linear(1024, 64),\n",
    "    nn.ReLU(),\n",
    "    nn.Linear(64, 10),\n",
    "    nn.ReLU()\n",
    ").to(\"cuda\")\n",
    "\n"
   ]
  },
  {
   "cell_type": "code",
   "execution_count": 3,
   "metadata": {},
   "outputs": [],
   "source": [
    "# Will speedup a few %\n",
    "# model = torch.jit.trace(model, torch.rand(16, 3, 224, 224).to(\"cuda\"))\n",
    "# model = torch.jit.script(model)"
   ]
  },
  {
   "cell_type": "code",
   "execution_count": 4,
   "metadata": {},
   "outputs": [],
   "source": [
    "data = [(np.float32(np.random.randn(16, 3, 224, 224)), np.float32(np.random.randn(16, 10))) for _ in range(100)]\n"
   ]
  },
  {
   "cell_type": "code",
   "execution_count": 5,
   "metadata": {},
   "outputs": [
    {
     "output_type": "stream",
     "name": "stdout",
     "text": "[  1:   100] - loss: 0.9120 - time: 1.8s\n"
    }
   ],
   "source": [
    "workout = Workout(model, F.mse_loss)\n",
    "workout.fit(data)"
   ]
  },
  {
   "cell_type": "code",
   "execution_count": 6,
   "metadata": {},
   "outputs": [
    {
     "output_type": "stream",
     "name": "stdout",
     "text": "[  2:   200] - loss: 0.9091 - time: 1.7s\n[  3:   300] - loss: 0.9053 - time: 1.7s\n[  4:   400] - loss: 0.9069 - time: 1.7s\n[  5:   500] - loss: 0.8932 - time: 1.7s\n[  6:   600] - loss: 0.8816 - time: 1.7s\n[  7:   700] - loss: 0.8830 - time: 1.7s\n[  8:   800] - loss: 0.8630 - time: 1.7s\n[  9:   900] - loss: 0.8531 - time: 1.7s\n[ 10:  1000] - loss: 0.8418 - time: 1.7s\n[ 11:  1100] - loss: 0.8190 - time: 1.7s\nCPU times: user 16.9 s, sys: 69.8 ms, total: 17 s\nWall time: 17 s\n"
    }
   ],
   "source": [
    "%%time\n",
    "workout.fit(data, epochs=10)"
   ]
  },
  {
   "cell_type": "code",
   "execution_count": null,
   "metadata": {},
   "outputs": [],
   "source": []
  }
 ],
 "metadata": {
  "kernelspec": {
   "display_name": "Python 3",
   "language": "python",
   "name": "python3"
  },
  "language_info": {
   "codemirror_mode": {
    "name": "ipython",
    "version": 3
   },
   "file_extension": ".py",
   "mimetype": "text/x-python",
   "name": "python",
   "nbconvert_exporter": "python",
   "pygments_lexer": "ipython3",
   "version": "3.7.5-final"
  }
 },
 "nbformat": 4,
 "nbformat_minor": 4
}