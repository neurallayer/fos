{
 "cells": [
  {
   "cell_type": "code",
   "execution_count": 1,
   "metadata": {},
   "outputs": [],
   "source": [
    "import torch\n",
    "import torch.nn as nn\n",
    "import numpy as np\n",
    "import torch.nn.functional as F\n",
    "\n",
    "# Import the Fos classes we are going to use in this notebook\n",
    "from fos import Workout"
   ]
  },
  {
   "cell_type": "code",
   "execution_count": 2,
   "metadata": {},
   "outputs": [],
   "source": [
    "model = nn.Sequential(\n",
    "    nn.Conv2d(3, 16, kernel_size=3),\n",
    "    nn.ReLU(),\n",
    "    nn.Conv2d(16, 16, kernel_size=3),\n",
    "    nn.ReLU(),\n",
    "    nn.BatchNorm2d(num_features=16),\n",
    "    nn.MaxPool2d(4),\n",
    "\n",
    "    nn.Conv2d(16, 64, kernel_size=3),\n",
    "    nn.ReLU(),\n",
    "    nn.Conv2d(64, 64, kernel_size=3),\n",
    "    nn.ReLU(),\n",
    "    nn.BatchNorm2d(num_features=64),\n",
    "    nn.MaxPool2d(4),\n",
    "\n",
    "    nn.Conv2d(64, 256, kernel_size=3),\n",
    "    nn.ReLU(),\n",
    "    nn.Conv2d(256, 256, kernel_size=3),\n",
    "    nn.ReLU(),\n",
    "    nn.BatchNorm2d(num_features=256),\n",
    "    nn.MaxPool2d(4),\n",
    "\n",
    "    nn.Flatten(),\n",
    "    nn.Linear(1024, 64),\n",
    "    nn.ReLU(),\n",
    "    nn.Linear(64, 10),\n",
    "    nn.ReLU()\n",
    ").to(\"cuda\")\n",
    "\n"
   ]
  },
  {
   "cell_type": "code",
   "execution_count": 3,
   "metadata": {},
   "outputs": [],
   "source": [
    "# Will speedup a few %, however in many scenarios not that practical since \n",
    "# for example validation will still run under training mode.\n",
    "# model = torch.jit.trace(model, torch.rand(16, 3, 224, 224).to(\"cuda\"))"
   ]
  },
  {
   "cell_type": "code",
   "execution_count": 4,
   "metadata": {},
   "outputs": [],
   "source": [
    "data = [(np.float32(np.random.randn(16, 3, 224, 224)), np.float32(np.random.randn(16, 10))) for _ in range(100)]\n"
   ]
  },
  {
   "cell_type": "code",
   "execution_count": 5,
   "metadata": {},
   "outputs": [
    {
     "name": "stdout",
     "output_type": "stream",
     "text": [
      "[  1:   100] - loss: 0.9871 - time: 2.0s\n"
     ]
    }
   ],
   "source": [
    "workout = Workout(model, F.mse_loss)\n",
    "workout.fit(data)"
   ]
  },
  {
   "cell_type": "code",
   "execution_count": 6,
   "metadata": {},
   "outputs": [
    {
     "name": "stdout",
     "output_type": "stream",
     "text": [
      "[  2:   200] - loss: 0.9880 - time: 2.0s\n",
      "[  3:   300] - loss: 0.9886 - time: 2.0s\n",
      "[  4:   400] - loss: 0.9881 - time: 2.0s\n",
      "[  5:   500] - loss: 0.9850 - time: 2.0s\n",
      "[  6:   600] - loss: 0.9767 - time: 2.0s\n",
      "[  7:   700] - loss: 0.9888 - time: 2.0s\n",
      "[  8:   800] - loss: 0.9683 - time: 2.0s\n",
      "[  9:   900] - loss: 0.9748 - time: 2.0s\n",
      "[ 10:  1000] - loss: 0.9613 - time: 2.0s\n",
      "[ 11:  1100] - loss: 0.9576 - time: 2.0s\n",
      "CPU times: user 16.1 s, sys: 3.75 s, total: 19.9 s\n",
      "Wall time: 19.9 s\n"
     ]
    }
   ],
   "source": [
    "%%time\n",
    "workout.fit(data, epochs=10)"
   ]
  },
  {
   "cell_type": "code",
   "execution_count": null,
   "metadata": {},
   "outputs": [],
   "source": []
  }
 ],
 "metadata": {
  "kernelspec": {
   "display_name": "Python 3",
   "language": "python",
   "name": "python3"
  },
  "language_info": {
   "codemirror_mode": {
    "name": "ipython",
    "version": 3
   },
   "file_extension": ".py",
   "mimetype": "text/x-python",
   "name": "python",
   "nbconvert_exporter": "python",
   "pygments_lexer": "ipython3",
   "version": "3.7.5"
  }
 },
 "nbformat": 4,
 "nbformat_minor": 4
}
