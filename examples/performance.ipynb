{
 "cells": [
  {
   "cell_type": "code",
   "execution_count": 1,
   "metadata": {},
   "outputs": [],
   "source": [
    "import torch\n",
    "import torch.nn as nn\n",
    "import numpy as np\n",
    "import torch.nn.functional as F\n",
    "\n",
    "# Import the Fos classes we are going to use in this notebook\n",
    "from fos import Workout"
   ]
  },
  {
   "cell_type": "code",
   "execution_count": 18,
   "metadata": {},
   "outputs": [],
   "source": [
    "model = nn.Sequential(\n",
    "    nn.Conv2d(3, 16, kernel_size=3),\n",
    "    nn.ReLU(),\n",
    "    nn.Conv2d(16, 16, kernel_size=3),\n",
    "    nn.ReLU(),\n",
    "    nn.BatchNorm2d(num_features=16),\n",
    "    nn.MaxPool2d(4),\n",
    "\n",
    "    nn.Conv2d(16, 64, kernel_size=3),\n",
    "    nn.ReLU(),\n",
    "    nn.Conv2d(64, 64, kernel_size=3),\n",
    "    nn.ReLU(),\n",
    "    nn.BatchNorm2d(num_features=64),\n",
    "    nn.MaxPool2d(4),\n",
    "\n",
    "    nn.Conv2d(64, 256, kernel_size=3),\n",
    "    nn.ReLU(),\n",
    "    nn.Conv2d(256, 256, kernel_size=3),\n",
    "    nn.ReLU(),\n",
    "    nn.BatchNorm2d(num_features=256),\n",
    "    nn.MaxPool2d(4),\n",
    "\n",
    "    nn.Flatten(),\n",
    "    nn.Linear(1024, 64),\n",
    "    nn.ReLU(),\n",
    "    nn.Linear(64, 10),\n",
    "    nn.ReLU()\n",
    ").to(\"cuda\")\n",
    "\n"
   ]
  },
  {
   "cell_type": "code",
   "execution_count": 14,
   "metadata": {},
   "outputs": [],
   "source": [
    "# Will speedup a few %\n",
    "# model = torch.jit.trace(model, torch.rand(16, 3, 224, 224).to(\"cuda\"))\n",
    "# model = torch.jit.script(model)"
   ]
  },
  {
   "cell_type": "code",
   "execution_count": 15,
   "metadata": {},
   "outputs": [],
   "source": [
    "data = [(np.float32(np.random.randn(16, 3, 224, 224)), np.float32(np.random.randn(16, 10))) for _ in range(100)]\n"
   ]
  },
  {
   "cell_type": "code",
   "execution_count": 16,
   "metadata": {},
   "outputs": [
    {
     "name": "stdout",
     "output_type": "stream",
     "text": "[  1:   100] - loss: 0.9820 - time: 2.0s\n"
    }
   ],
   "source": [
    "workout = Workout(model, F.mse_loss)\n",
    "workout.fit(data)"
   ]
  },
  {
   "cell_type": "code",
   "execution_count": 19,
   "metadata": {},
   "outputs": [
    {
     "name": "stdout",
     "output_type": "stream",
     "text": "[ 12:  1200] - loss: 0.8495 - time: 2.0s\n[ 13:  1300] - loss: 0.7985 - time: 2.1s\n[ 14:  1400] - loss: 0.8155 - time: 2.1s\n[ 15:  1500] - loss: 0.7851 - time: 2.1s\n[ 16:  1600] - loss: 0.7713 - time: 2.1s\n[ 17:  1700] - loss: 0.7239 - time: 2.1s\n[ 18:  1800] - loss: 0.7792 - time: 2.1s\n[ 19:  1900] - loss: 0.6985 - time: 2.1s\n[ 20:  2000] - loss: 0.6769 - time: 2.1s\n[ 21:  2100] - loss: 0.6669 - time: 2.1s\nCPU times: user 20.6 s, sys: 60.4 ms, total: 20.7 s\nWall time: 20.7 s\n"
    }
   ],
   "source": [
    "%%time\n",
    "workout.fit(data, epochs=10)"
   ]
  },
  {
   "cell_type": "code",
   "execution_count": null,
   "metadata": {},
   "outputs": [],
   "source": []
  }
 ],
 "metadata": {
  "kernelspec": {
   "display_name": "Python 3",
   "language": "python",
   "name": "python3"
  },
  "language_info": {
   "codemirror_mode": {
    "name": "ipython",
    "version": 3
   },
   "file_extension": ".py",
   "mimetype": "text/x-python",
   "name": "python",
   "nbconvert_exporter": "python",
   "pygments_lexer": "ipython3",
   "version": "3.7.5-final"
  }
 },
 "nbformat": 4,
 "nbformat_minor": 4
}