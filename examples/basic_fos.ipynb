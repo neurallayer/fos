{
 "cells": [
  {
   "cell_type": "markdown",
   "metadata": {},
   "source": [
    "# FOS Basic Example\n",
    "\n",
    "## Outline\n",
    "* [**Introduction**](#Introduction)\n",
    "* [**Import Modules**](#Import-modules)\n",
    "* [**Setup**](#Setup)\n",
    "* [**Train**](#Train)\n",
    "* [**Next Steps**](#Next-Steps)\n",
    "\n",
    "\n",
    "## Introduction\n",
    "This sample notebook shows the minimum required steps to train a model using **FOS**. FOS (the Greek word for light) is a Python framework that assists in the development of state of the art machine learning models in PyTorch. The primary focus is on making it a repeatable process with an easy to use API and good support for getting the nessecary insights into your model.  \n",
    "\n",
    "This notebook trains a convolutional neural network that comes out of the box with torchvision, namely `resnet18`. The model takes as input an image of 224x224 pixels and predicts which of the possible 1000 object types are present in the image. To find our mote about the network architecture, checkout this [paper](https://arxiv.org/pdf/1512.03385.pdf). \n",
    "\n",
    "Since the main purpose is to demonstrate the use of FOS, we don't bother to download the pretrained weights or real images and save some bandwith. \n",
    "\n",
    "## Import modules\n",
    "*FOS* supports the standard PyTorch classes and functions for defining models, dataloaders, loss functions and optimizers. So the first few  import statements should look very familiar if you have worked with PyTorch before.\n",
    "\n",
    "For this notebook there are 3 classes required that belong to the *Fos* module: `Supervisor`, `NotebookMeter` and `Trainer`. Their purpose is explained later on. "
   ]
  },
  {
   "cell_type": "code",
   "execution_count": 1,
   "metadata": {},
   "outputs": [],
   "source": [
    "import torch\n",
    "import torch.nn.functional as F\n",
    "from torchvision.models import resnet18 \n",
    "\n",
    "# Import the FOS classes we'll use in this example\n",
    "from fos import Workout\n",
    "from fos.callbacks import NotebookMeter\n",
    "from fos.metrics import BinaryAccuracy"
   ]
  },
  {
   "cell_type": "markdown",
   "metadata": {},
   "source": [
    "## Setup\n",
    "We first create an instance of the model we want to train, so in this case the resnet18 model. Throughout this example we refer to the instance of model as the `predictor` in order to be able to differentiate from the `Supervisor` we create later on.\n",
    "\n",
    "After the predictor is instantiated, the optimizer and loss function are created. If you are familiar with PyTorch this should all be straight forward. We choose Adam as the optimizer since it performs well in many scenarios. But feel free to swap it out for any other optimizer. And as a loss function we choose the `binary cross entropy` as that fits the multi-class classification problem well.\n",
    "\n",
    "And finally time to create some random dummy data that mimics an image of 224x224 pixels and the target: \n",
    "\n",
    "     X: 4x3x224x224 = 4 samples in a batch x 3 channels (RGB) x 224 pixels width x 224 pixels height\n",
    "     \n",
    "     Y: 4x1000      = 4 samples in a batch x 1000 possible classes \n",
    "\n",
    "In a real world scenario's this would typically be implemented as a PyTorch Dataloader. But for the purpose of this notebook a simple list of random tensors will do just fine."
   ]
  },
  {
   "cell_type": "code",
   "execution_count": 2,
   "metadata": {},
   "outputs": [],
   "source": [
    "model = resnet18().to(\"cuda\")\n",
    "optim = torch.optim.Adam(model.parameters())\n",
    "loss  = F.binary_cross_entropy_with_logits\n",
    "\n",
    "data = [(torch.randn(4,3,224,224), torch.rand(4,1000).round()) for i in range(15)]"
   ]
  },
  {
   "cell_type": "markdown",
   "metadata": {},
   "source": [
    "Now everything is ready to create the three nessecary **FOS**  objects:\n",
    "\n",
    "1. A **Supervisor** that adds a loss function to the predictor that you want to train. The Supervisor instance is used by the trainer to perform the actual updating of the model. Throughout the examples we call this instance `model`. Under the hood, the Supervisor is still inheriting from `nn.Module`, so can be used were you would also any other PyTorch model. \n",
    "\n",
    "2. A **Meter** that handles the generated metrics like loss and custom metrics, although in this example there are no custom metrics defined. Here we use the NotebookMeter that will print the following info in a Jupyter notebook:\n",
    "    * the global epoch and step counter\n",
    "    * the metrics (in this case just the training loss)\n",
    "    * the progress (percentage and time) per epoch\n",
    "              \n",
    "              \n",
    "3. The **Trainer** that glues everything together and performs the training. When creating the trainer object, you need to pass as arguments a `supervisor`, an `optimizer` and a `meter`.\n",
    "\n",
    "And that is really all that is required. So the minimum is three lines of **FOS** specific code:\n"
   ]
  },
  {
   "cell_type": "code",
   "execution_count": 3,
   "metadata": {},
   "outputs": [],
   "source": [
    "workout = Workout(model, loss, optim, acc=BinaryAccuracy())\n",
    "meter   = NotebookMeter([\"loss\", \"acc\"])"
   ]
  },
  {
   "cell_type": "markdown",
   "metadata": {},
   "source": [
    "## Train\n",
    "With everything being setup, the training can now start. In this case we run the training for 5 epochs. The trainer keeps track of the state of the training, so you can rerun the cell below multiple times and it will continue where it left off. This is ideal when you are working interactively in Notebooks.\n",
    "\n",
    "We use random data, so you can safely ignore the loss values that are being printed. But just in case you are curious, since we only have a small set of training data the loss will go down quickly (clearly a case of overfitting). "
   ]
  },
  {
   "cell_type": "code",
   "execution_count": 5,
   "metadata": {},
   "outputs": [
    {
     "name": "stderr",
     "output_type": "stream",
     "text": "[  5:    75]  - loss : 0.65553  - acc : 0.61750 : 100%|██████████|00:23<00:00\n[  6:    90]  - loss : 0.64836  - acc : 0.61825 : 100%|██████████|00:00<00:00\n[  7:   105]  - loss : 0.61911  - acc : 0.65250 : 100%|██████████|00:00<00:00\n[  8:   120]  - loss : 0.59065  - acc : 0.67750 : 100%|██████████|00:00<00:00\n[  9:   135]  - loss : 0.55449  - acc : 0.72050 : 100%|██████████|00:00<00:00\n[ 10:   150]  - loss : 0.51287  - acc : 0.75075 : 100%|██████████|00:00<00:00\n[ 11:   165]  - loss : 0.45823  - acc : 0.78425 : 100%|██████████|00:00<00:00\n[ 12:   180]  - loss : 0.40269  - acc : 0.83650 : 100%|██████████|00:00<00:00\n[ 13:   195]  - loss : 0.34828  - acc : 0.86825 : 100%|██████████|00:00<00:00\n[ 14:   210]  - loss : 0.30029  - acc : 0.90200 : 100%|██████████|00:00<00:00\n[ 15:   225]  - loss : 0.25655  - acc : 0.93150 : 100%|██████████|00:00<00:00\n[ 16:   240]  - loss : 0.21905  - acc : 0.95275 : 100%|██████████|00:00<00:00\n[ 17:   255]  - loss : 0.18743  - acc : 0.96750 : 100%|██████████|00:00<00:00\n[ 18:   270]  - loss : 0.16110  - acc : 0.97925 : 100%|██████████|00:00<00:00\n[ 19:   285]  - loss : 0.13947  - acc : 0.98625 : 100%|██████████|00:00<00:00\n[ 20:   300]  - loss : 0.12185  - acc : 0.98925 : 100%|██████████|00:00<00:00\n[ 21:   315]  - loss : 0.10734  - acc : 0.99100 : 100%|██████████|00:00<00:00\n[ 22:   330]  - loss : 0.09508  - acc : 0.99525 : 100%|██████████|00:00<00:00\n[ 23:   345]  - loss : 0.08458  - acc : 0.99650 : 100%|██████████|00:00<00:00\n[ 24:   360]  - loss : 0.07533  - acc : 0.99850 : 100%|██████████|00:00<00:00\n[ 25:   375]  - loss : 0.06761  - acc : 0.99950 : 100%|██████████|00:00<00:00\n[ 26:   390]  - loss : 0.06101  - acc : 1.00000 : 100%|██████████|00:00<00:00\n[ 27:   405]  - loss : 0.05545  - acc : 1.00000 : 100%|██████████|00:00<00:00\n[ 28:   420]  - loss : 0.05018  - acc : 1.00000 : 100%|██████████|00:00<00:00\n[ 29:   435]  - loss : 0.04561  - acc : 1.00000 : 100%|██████████|00:00<00:00\n[ 30:   450]  - loss : 0.04154  - acc : 1.00000 : 100%|██████████|00:00<00:00\n[ 31:   465]  - loss : 0.03790  - acc : 1.00000 : 100%|██████████|00:00<00:00\n[ 32:   480]  - loss : 0.03460  - acc : 1.00000 : 100%|██████████|00:00<00:00\n[ 33:   495]  - loss : 0.03179  - acc : 1.00000 : 100%|██████████|00:00<00:00\n[ 34:   510]  - loss : 0.02931  - acc : 1.00000 : 100%|██████████|00:00<00:00\n[ 35:   525]  - loss : 0.02711  - acc : 1.00000 : 100%|██████████|00:00<00:00\n[ 36:   540]  - loss : 0.02519  - acc : 1.00000 : 100%|██████████|00:00<00:00\n[ 37:   555]  - loss : 0.02348  - acc : 1.00000 : 100%|██████████|00:00<00:00\n[ 38:   570]  - loss : 0.02187  - acc : 1.00000 : 100%|██████████|00:00<00:00\n[ 39:   585]  - loss : 0.02041  - acc : 1.00000 : 100%|██████████|00:00<00:00\n[ 40:   600]  - loss : 0.01911  - acc : 1.00000 : 100%|██████████|00:00<00:00\n[ 41:   615]  - loss : 0.01795  - acc : 1.00000 : 100%|██████████|00:00<00:00\n[ 42:   630]  - loss : 0.01685  - acc : 1.00000 : 100%|██████████|00:00<00:00\n[ 43:   645]  - loss : 0.01586  - acc : 1.00000 : 100%|██████████|00:00<00:00\n[ 44:   660]  - loss : 0.01498  - acc : 1.00000 : 100%|██████████|00:00<00:00\n[ 45:   675]  - loss : 0.01417  - acc : 1.00000 : 100%|██████████|00:00<00:00\n[ 46:   690]  - loss : 0.01338  - acc : 1.00000 : 100%|██████████|00:00<00:00\n[ 47:   705]  - loss : 0.01268  - acc : 1.00000 : 100%|██████████|00:00<00:00\n[ 48:   720]  - loss : 0.01205  - acc : 1.00000 : 100%|██████████|00:00<00:00\n[ 49:   735]  - loss : 0.01143  - acc : 1.00000 : 100%|██████████|00:00<00:00\n[ 50:   750]  - loss : 0.01089  - acc : 1.00000 : 100%|██████████|00:00<00:00\n[ 51:   765]  - loss : 0.01036  - acc : 1.00000 : 100%|██████████|00:00<00:00\n[ 52:   780]  - loss : 0.00988  - acc : 1.00000 : 100%|██████████|00:00<00:00\n[ 53:   795]  - loss : 0.00945  - acc : 1.00000 : 100%|██████████|00:00<00:00\n[ 54:   810]  - loss : 0.00903  - acc : 1.00000 : 100%|██████████|00:00<00:00\n[ 55:   825]  - loss : 0.00865  - acc : 1.00000 : 100%|██████████|00:00<00:00"
    }
   ],
   "source": [
    "workout.fit(data, epochs=5, callbacks=meter)"
   ]
  },
  {
   "cell_type": "markdown",
   "metadata": {},
   "source": [
    "## Next Steps\n",
    "\n",
    "We now have a trained model and that is all for this notebook. But there are other notebooks available that dive into much more details and there is also the API documentation itself. Please visit [github](https://github.com/quanta_ai/fos) to find out more.\n"
   ]
  }
 ],
 "metadata": {
  "kernelspec": {
   "display_name": "Python 3",
   "language": "python",
   "name": "python3"
  },
  "language_info": {
   "codemirror_mode": {
    "name": "ipython",
    "version": 3
   },
   "file_extension": ".py",
   "mimetype": "text/x-python",
   "name": "python",
   "nbconvert_exporter": "python",
   "pygments_lexer": "ipython3",
   "version": "3.6.8"
  }
 },
 "nbformat": 4,
 "nbformat_minor": 4
}